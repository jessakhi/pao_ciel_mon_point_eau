{
 "cells": [
  {
   "cell_type": "code",
   "execution_count": 3,
   "id": "8a90a3c9",
   "metadata": {},
   "outputs": [
    {
     "name": "stdout",
     "output_type": "stream",
     "text": [
      "Defaulting to user installation because normal site-packages is not writeable\n",
      "Collecting rasterio\n",
      "  Downloading rasterio-1.3.10-cp310-cp310-manylinux2014_x86_64.whl (21.5 MB)\n",
      "\u001b[2K     \u001b[38;2;114;156;31m━━━━━━━━━━━━━━━━━━━━━━━━━━━━━━━━━━━━━━━━\u001b[0m \u001b[32m21.5/21.5 MB\u001b[0m \u001b[31m11.0 MB/s\u001b[0m eta \u001b[36m0:00:00\u001b[0mm eta \u001b[36m0:00:01\u001b[0m0:01\u001b[0m:01\u001b[0m\n",
      "\u001b[?25hCollecting snuggs>=1.4.1\n",
      "  Downloading snuggs-1.4.7-py3-none-any.whl (5.4 kB)\n",
      "Collecting cligj>=0.5\n",
      "  Downloading cligj-0.7.2-py3-none-any.whl (7.1 kB)\n",
      "Collecting click-plugins\n",
      "  Downloading click_plugins-1.1.1-py2.py3-none-any.whl (7.5 kB)\n",
      "Requirement already satisfied: setuptools in /usr/lib/python3/dist-packages (from rasterio) (59.6.0)\n",
      "Requirement already satisfied: click>=4.0 in /usr/lib/python3/dist-packages (from rasterio) (8.0.3)\n",
      "Collecting affine\n",
      "  Downloading affine-2.4.0-py3-none-any.whl (15 kB)\n",
      "Requirement already satisfied: numpy in /home/r/.local/lib/python3.10/site-packages (from rasterio) (1.24.3)\n",
      "Requirement already satisfied: certifi in /home/r/.local/lib/python3.10/site-packages (from rasterio) (2024.2.2)\n",
      "Requirement already satisfied: attrs in /home/r/.local/lib/python3.10/site-packages (from rasterio) (23.2.0)\n",
      "Requirement already satisfied: pyparsing>=2.1.6 in /usr/lib/python3/dist-packages (from snuggs>=1.4.1->rasterio) (2.4.7)\n",
      "Installing collected packages: snuggs, cligj, click-plugins, affine, rasterio\n",
      "Successfully installed affine-2.4.0 click-plugins-1.1.1 cligj-0.7.2 rasterio-1.3.10 snuggs-1.4.7\n"
     ]
    },
    {
     "name": "stderr",
     "output_type": "stream",
     "text": [
      "/home/r/.local/lib/python3.10/site-packages/matplotlib/projections/__init__.py:63: UserWarning: Unable to import Axes3D. This may be due to multiple versions of Matplotlib being installed (e.g. as a system package and as a pip package). As a result, the 3D projection is not available.\n",
      "  warnings.warn(\"Unable to import Axes3D. This may be due to multiple versions of \"\n"
     ]
    }
   ],
   "source": [
    "!pip install rasterio\n",
    "import rasterio\n",
    "from rasterio.windows import Window\n",
    "import numpy as np\n",
    "import matplotlib.pyplot as plt"
   ]
  },
  {
   "cell_type": "markdown",
   "id": "d161ab86",
   "metadata": {},
   "source": [
    "# 1. Split water masks in 256x256 thumbnails and filter them according to water presence"
   ]
  },
  {
   "cell_type": "markdown",
   "id": "bc28c851",
   "metadata": {},
   "source": [
    "I discard thumbnails with only land or only water. \n",
    "\n",
    "I chose (arbitrary) to keep only thumbnails with at least 10% of water and at least 10% of land.  "
   ]
  },
  {
   "cell_type": "markdown",
   "id": "f37a01f2",
   "metadata": {},
   "source": [
    "## 1.1. Plot masks in jpg for quick visual assessment of their quality"
   ]
  },
  {
   "cell_type": "code",
   "execution_count": null,
   "id": "bdea590a",
   "metadata": {},
   "outputs": [],
   "source": [
    "def split_selected_masks_for_assessment(image_path, output_folder, size=256): \n",
    "    selected_indexes=[]\n",
    "    \n",
    "    with rasterio.open(image_path) as src: \n",
    "        w, h = src.width, src.height\n",
    "        \n",
    "        for i in range(0, w, size): \n",
    "            for j in range(0, h, size): \n",
    "                window = Window(i, j, min(size, w - i), min(size, h - j))\n",
    "                thumbnail = src.read(window = window)\n",
    "                \n",
    "                # keep only thumbnails with at least 10% of water and at least 10% of land \n",
    "                nb_water_pixels = sum(sum(sum(thumbnail)))\n",
    "                \n",
    "                if (nb_water_pixels > 65536 * (10/100)) and (nb_water_pixels < 65536 * (90/100)):  \n",
    "                    output_path = f\"{output_folder}/tile_{i}_{j}.png\"\n",
    "                    selected_indexes.append((i,j))\n",
    "                    with rasterio.open(\n",
    "                        output_path, \n",
    "                        'w', \n",
    "                        driver=\"PNG\", \n",
    "                        height = 256, \n",
    "                        width = 256, \n",
    "                        count = src.count, \n",
    "                        dtype = src.dtypes[0]\n",
    "                    ) as dst: \n",
    "                        dst.write(thumbnail*255)\n",
    "                        \n",
    "    return selected_indexes"
   ]
  },
  {
   "cell_type": "code",
   "execution_count": null,
   "id": "48efa52a",
   "metadata": {},
   "outputs": [],
   "source": [
    "image_path = \"/home/llalla/Documents/SWOT/dataset/S1S2Water/5/sentinel12_s2_5_msk.tif\"\n",
    "output_folder = \"/home/llalla/Documents/SWOT/tuto_unet/data_folder/for_assessment/\""
   ]
  },
  {
   "cell_type": "code",
   "execution_count": null,
   "id": "e9d7f693",
   "metadata": {},
   "outputs": [],
   "source": [
    "selected_indexes = split_selected_masks_for_assessment(image_path, output_folder)\n",
    "print(len(selected_indexes))\n",
    "print(selected_indexes)"
   ]
  },
  {
   "cell_type": "markdown",
   "id": "53348fb5",
   "metadata": {},
   "source": [
    "### TO DO : superimpose mask and RGB s2 "
   ]
  },
  {
   "cell_type": "markdown",
   "id": "6e0f3528",
   "metadata": {},
   "source": [
    "## 1.2. Save masks as tif for training data"
   ]
  },
  {
   "cell_type": "code",
   "execution_count": null,
   "id": "30844e44",
   "metadata": {},
   "outputs": [],
   "source": [
    "def split_selected_masks(image_path, prefix, output_folder, size=256): \n",
    "    selected_indexes=[]\n",
    "    \n",
    "    with rasterio.open(image_path) as src: \n",
    "        w, h = src.width, src.height\n",
    "        \n",
    "        for i in range(0, w, size): \n",
    "            for j in range(0, h, size): \n",
    "                window = Window(i, j, min(size, w - i), min(size, h - j))\n",
    "                thumbnail = src.read(window = window)\n",
    "                \n",
    "                # keep only thumbnails with at least 10% of water and at least 10% of land \n",
    "                nb_water_pixels = sum(sum(sum(thumbnail)))\n",
    "                \n",
    "                if (nb_water_pixels > 65536 * (10/100)) and (nb_water_pixels < 65536 * (90/100)):  \n",
    "                    output_path = f\"{output_folder}/{prefix}_mask_tile_{i}_{j}.tif\"\n",
    "                    selected_indexes.append((i,j))\n",
    "                    with rasterio.open(\n",
    "                        output_path, \n",
    "                        'w', \n",
    "                        driver=\"GTiff\", \n",
    "                        height = 256, \n",
    "                        width = 256, \n",
    "                        count = src.count, \n",
    "                        dtype = src.dtypes[0]\n",
    "                    ) as dst: \n",
    "                        dst.write(thumbnail)\n",
    "                        \n",
    "    return selected_indexes"
   ]
  },
  {
   "cell_type": "code",
   "execution_count": null,
   "id": "55ca231f",
   "metadata": {},
   "outputs": [],
   "source": [
    "image_path = \"/home/llalla/Documents/SWOT/dataset/S1S2Water/13/sentinel12_s2_13_msk.tif\"\n",
    "output_folder = \"/home/llalla/Documents/SWOT/tuto_unet/data_folder/13_masks/\""
   ]
  },
  {
   "cell_type": "code",
   "execution_count": null,
   "id": "90dd3b51",
   "metadata": {},
   "outputs": [],
   "source": [
    "selected_indexes = split_selected_masks(image_path, '13', output_folder)\n",
    "print(len(selected_indexes))\n",
    "print(selected_indexes)"
   ]
  },
  {
   "cell_type": "markdown",
   "id": "2cd85ca6",
   "metadata": {},
   "source": [
    "### indexes for selected masks : "
   ]
  },
  {
   "cell_type": "code",
   "execution_count": null,
   "id": "ac602ca0",
   "metadata": {},
   "outputs": [],
   "source": [
    "selected_indexes[:9]"
   ]
  },
  {
   "cell_type": "markdown",
   "id": "2518692c",
   "metadata": {},
   "source": [
    "[(0, 512),\n",
    " (0, 3584),\n",
    " (0, 7680),\n",
    " (0, 8960),\n",
    " (0, 9216),\n",
    " (0, 9472),\n",
    " (0, 9728),\n",
    " (0, 9984),\n",
    " (0, 10240),\n",
    " (0, 10496),\n",
    " (0, 10752),\n",
    " (256, 6912),\n",
    " (256, 7936),\n",
    " (256, 9728),\n",
    " (256, 9984),\n",
    " (256, 10240),\n",
    " (256, 10496),\n",
    " (256, 10752),\n",
    " (512, 9984),\n",
    " (512, 10240),\n",
    " (512, 10496),\n",
    " (768, 1280),\n",
    " (768, 1536),\n",
    " (768, 7936),\n",
    " (768, 10752),\n",
    " (1536, 6912),\n",
    " (1536, 8192),\n",
    " (1536, 8448),\n",
    " (1792, 6656),\n",
    " (1792, 6912),\n",
    " (2048, 6656),\n",
    " (2048, 6912),\n",
    " (2304, 6912),\n",
    " (2304, 7168),\n",
    " (2560, 5376),\n",
    " (2560, 6400),\n",
    " (2560, 6656),\n",
    " (2560, 6912),\n",
    " (2560, 7168),\n",
    " (2816, 5120),\n",
    " (2816, 5888),\n",
    " (2816, 6144),\n",
    " (2816, 6400),\n",
    " (2816, 6656),\n",
    " (2816, 6912),\n",
    " (2816, 7168),\n",
    " (3072, 5376),\n",
    " (3072, 5632),\n",
    " (3072, 5888),\n",
    " (3072, 6144),\n",
    " (3072, 7168),\n",
    " (3072, 10752),\n",
    " (3328, 5120),\n",
    " (3328, 5376),\n",
    " (3328, 6912),\n",
    " (3328, 7168),\n",
    " (3584, 0),\n",
    " (3584, 5120),\n",
    " (3584, 5376),\n",
    " (3584, 6656),\n",
    " (3584, 6912),\n",
    " (3840, 5376),\n",
    " (3840, 6144),\n",
    " (3840, 6400),\n",
    " (4096, 5376),\n",
    " (4096, 5632),\n",
    " (4096, 6144),\n",
    " (4352, 5632),\n",
    " (4352, 5888),\n",
    " (4352, 6144),\n",
    " (4608, 5888),\n",
    " (4608, 6144),\n",
    " (4608, 6400),\n",
    " (4608, 6656),\n",
    " (4864, 6144),\n",
    " (4864, 6656),\n",
    " (4864, 6912),\n",
    " (6656, 5632),\n",
    " (6656, 6144),\n",
    " (6912, 4352),\n",
    " (6912, 4608),\n",
    " (6912, 5632),\n",
    " (6912, 5888),\n",
    " (7168, 7168),\n",
    " (7424, 5376),\n",
    " (7680, 1792),\n",
    " (7936, 1792),\n",
    " (8192, 6400),\n",
    " (8192, 6656),\n",
    " (8448, 5888),\n",
    " (8448, 6656),\n",
    " (8448, 6912),\n",
    " (8704, 6144),\n",
    " (8960, 10240),\n",
    " (8960, 10496),\n",
    " (9216, 1536),\n",
    " (9216, 10496),\n",
    " (10752, 768),\n",
    " (10752, 1280),\n",
    " (10752, 5376)]"
   ]
  },
  {
   "cell_type": "markdown",
   "id": "f0b9ac47",
   "metadata": {},
   "source": [
    "# 2. Crop s2 image accordingly"
   ]
  },
  {
   "cell_type": "markdown",
   "id": "01fd632d",
   "metadata": {},
   "source": [
    "Sentinel-2 image bands\n",
    "{\"Blue\": 0, \"Green\": 1, \"Red\": 2, \"NIR\": 3, \"SWIR1\": 4, \"SWIR2\": 5}\n",
    "\n",
    "S2 Unit: TOA reflectance (scaled by factor 10000)\n",
    "\n",
    "(TOA = Top Of Atmosphere)\n",
    "\n",
    "https://github.com/MWieland/s1s2_water/tree/main "
   ]
  },
  {
   "cell_type": "markdown",
   "id": "669af05c",
   "metadata": {},
   "source": [
    "Uncomment the following if you want to see what each part does : "
   ]
  },
  {
   "cell_type": "code",
   "execution_count": null,
   "id": "08994369",
   "metadata": {},
   "outputs": [],
   "source": [
    "# image_path = \"/home/llalla/Documents/SWOT/tuto_unet/data_folder/16/sentinel12_s2_16_img.tif\"\n",
    "# with rasterio.open(image_path) as src: \n",
    "#     w, h = src.width, src.height\n",
    "#     size = 256\n",
    "#     i=0\n",
    "#     j=3584\n",
    "#     window = Window(i, j, min(size, w - i), min(size, h - j))\n",
    "#     thumbnail = src.read(window = window)\n",
    "\n",
    "# print(thumbnail.shape) # 6 x 256 x 256 \n",
    "# # {\"Blue\": 0, \"Green\": 1, \"Red\": 2, \"NIR\": 3, \"SWIR1\": 4, \"SWIR2\": 5}\n",
    "# print(thumbnail)"
   ]
  },
  {
   "cell_type": "code",
   "execution_count": null,
   "id": "3f58ab67",
   "metadata": {},
   "outputs": [],
   "source": [
    "# bands = []\n",
    "# for i in range(thumbnail.shape[0]):\n",
    "#     bands.append(thumbnail[i, :, :].astype(np.float32) / 10000)\n",
    "    \n",
    "# scaled_thumbnail = np.dstack(bands)\n",
    "# print(scaled_thumbnail.shape)\n",
    "# new_scaled_thumbnail= np.moveaxis(scaled_thumbnail, -1, 0)\n",
    "# print(new_scaled_thumbnail.shape)\n",
    "# print(new_scaled_thumbnail[:3, :, :].shape)\n",
    "# new_scaled_thumbnail[:3, :, :].max()"
   ]
  },
  {
   "cell_type": "code",
   "execution_count": null,
   "id": "cf450020",
   "metadata": {},
   "outputs": [],
   "source": [
    "# bands = []\n",
    "# for i in range(thumbnail.shape[0]):\n",
    "#     x = (thumbnail[i, :, :].astype(np.float32) / 10000)\n",
    "#     bands.append((x - x.min()) / (x.max() - x.min())) \n",
    "    \n",
    "# normalized_thumbnail = np.dstack(bands)\n",
    "\n",
    "# print(normalized_thumbnail.shape)\n",
    "# print(normalized_thumbnail.max())\n",
    "# normalized_thumbnail\n",
    "\n",
    "# new_normalized_thumbnail= np.moveaxis(normalized_thumbnail, -1, 0)\n",
    "# print(new_normalized_thumbnail.shape)\n",
    "# print(new_normalized_thumbnail[:3, :, :].shape)\n",
    "# new_normalized_thumbnail[:3, :, :].max()"
   ]
  },
  {
   "cell_type": "code",
   "execution_count": null,
   "id": "a936499d",
   "metadata": {},
   "outputs": [],
   "source": [
    "def scale_min_max(array, min=0, max=10000):\n",
    "    bands = []\n",
    "    for i in range(array.shape[2]):\n",
    "        bands.append(array[:, :, i].astype(np.float32) / max)\n",
    "    return np.dstack(bands)"
   ]
  },
  {
   "cell_type": "code",
   "execution_count": null,
   "id": "cd5d6333",
   "metadata": {},
   "outputs": [],
   "source": [
    "def split_selected_s2_images(image_path, prefix, selected_indexes, output_folder, size=256): \n",
    "    # open \"big\" image\n",
    "    with rasterio.open(image_path) as src: \n",
    "        w, h = src.width, src.height\n",
    "        \n",
    "        # crop thumbnail\n",
    "        for (i,j) in selected_indexes: \n",
    "            window = Window(i, j, min(size, w - i), min(size, h - j))\n",
    "            thumbnail = src.read(window = window)\n",
    " \n",
    "            bands = []\n",
    "            for k in range(thumbnail.shape[0]):\n",
    "                # re scale all bands : fisrt divide by 10000\n",
    "                x = (thumbnail[k, :, :].astype(np.float32) / 10000)\n",
    "                # normalise between 0 and 1\n",
    "                bands.append((x - x.min()) / (x.max() - x.min())) \n",
    "                \n",
    "            normalized_thumbnail = np.dstack(bands)\n",
    "            new_normalized_thumbnail= np.moveaxis(normalized_thumbnail, -1, 0)\n",
    "\n",
    "            output_path = f\"{output_folder}/{prefix}_s2_tile_{i}_{j}.tif\"\n",
    "\n",
    "            with rasterio.open(\n",
    "                output_path, \n",
    "                'w', \n",
    "                driver=\"GTiff\", \n",
    "                height = 256, \n",
    "                width = 256, \n",
    "                count = 6, # 6 bands\n",
    "                dtype = np.float32\n",
    "            ) as dst: \n",
    "                dst.write(new_normalized_thumbnail)"
   ]
  },
  {
   "cell_type": "code",
   "execution_count": null,
   "id": "c492a6b0",
   "metadata": {},
   "outputs": [],
   "source": [
    "image_path = \"/home/llalla/Documents/SWOT/dataset/S1S2Water/13/sentinel12_s2_13_img.tif\"\n",
    "output_folder = \"/home/llalla/Documents/SWOT/tuto_unet/data_folder/13_s2/\""
   ]
  },
  {
   "cell_type": "code",
   "execution_count": null,
   "id": "2f7f0cc9",
   "metadata": {},
   "outputs": [],
   "source": [
    "split_selected_s2_images(image_path, '13', selected_indexes, output_folder)"
   ]
  },
  {
   "cell_type": "markdown",
   "id": "a671d74b",
   "metadata": {},
   "source": [
    "### TO DO : normalisation of thumbnailss = divide by std ? check distribution"
   ]
  },
  {
   "cell_type": "markdown",
   "id": "ac6ecd27",
   "metadata": {},
   "source": [
    "# 3. Crop s1 image accordingly"
   ]
  },
  {
   "cell_type": "markdown",
   "id": "9d8b1adc",
   "metadata": {},
   "source": [
    "Sentinel-1 image bands {\"VV\": 0, \"VH\": 1}\n",
    "\n",
    "S1 Unit: dB (scaled by factor 100)\n",
    "\n",
    "https://github.com/MWieland/s1s2_water/tree/main "
   ]
  },
  {
   "cell_type": "markdown",
   "id": "7dd24c69",
   "metadata": {},
   "source": [
    "Uncomment the following if you want to see what each part does : "
   ]
  },
  {
   "cell_type": "code",
   "execution_count": null,
   "id": "f023bb95",
   "metadata": {},
   "outputs": [],
   "source": [
    "# image_path = \"/home/llalla/Documents/SWOT/tuto_unet/data_folder/11/sentinel12_s1_11_img.tif\"\n",
    "# with rasterio.open(image_path) as src: \n",
    "#     w, h = src.width, src.height\n",
    "#     size = 256\n",
    "#     i=0\n",
    "#     j=0\n",
    "#     window = Window(i, j, min(size, w - i), min(size, h - j))\n",
    "#     thumbnail = src.read(window = window)\n",
    "\n",
    "# print(thumbnail.shape) # 2 x 256 x 256 : {\"VV\": 0, \"VH\": 1}\n",
    "# print(thumbnail)"
   ]
  },
  {
   "cell_type": "code",
   "execution_count": null,
   "id": "fe5c3575",
   "metadata": {},
   "outputs": [],
   "source": [
    "# s1_0 = thumbnail[0, : , :] # 1 band image\n",
    "# s1_1 = thumbnail[1, : , :] # 1 band image\n",
    "\n",
    "# fig, ax = plt.subplots(2, 1, figsize=(20, 6))\n",
    "# fig.tight_layout()\n",
    "# ax[0].imshow(s1_0)\n",
    "# ax[0].set_title('s1_0 Images')    \n",
    "# ax[1].imshow(s1_1)\n",
    "# ax[1].set_title('s1_1 Images')"
   ]
  },
  {
   "cell_type": "code",
   "execution_count": null,
   "id": "a4b9b16e",
   "metadata": {},
   "outputs": [],
   "source": [
    "# bands = []\n",
    "# for k in range(thumbnail.shape[0]):\n",
    "#     # re scale all bands : fisrt divide by 100\n",
    "#     x = (thumbnail[k, :, :].astype(np.float32) / 100)\n",
    "#     # normalise between 0 and 1\n",
    "#     bands.append((x - x.min()) / (x.max() - x.min())) \n",
    "# normalized_thumbnail = np.dstack(bands)"
   ]
  },
  {
   "cell_type": "code",
   "execution_count": null,
   "id": "279829fd",
   "metadata": {},
   "outputs": [],
   "source": [
    "# new_normalized_thumbnail= np.moveaxis(normalized_thumbnail, -1, 0)"
   ]
  },
  {
   "cell_type": "code",
   "execution_count": null,
   "id": "1a654fd8",
   "metadata": {},
   "outputs": [],
   "source": [
    "def split_selected_s1_images(image_path, prefix, selected_indexes, output_folder, size=256): \n",
    "    # open \"big\" image\n",
    "    with rasterio.open(image_path) as src: \n",
    "        w, h = src.width, src.height\n",
    "        \n",
    "        # crop thumbnail\n",
    "        for (i,j) in selected_indexes: \n",
    "            window = Window(i, j, min(size, w - i), min(size, h - j))\n",
    "            thumbnail = src.read(window = window)\n",
    " \n",
    "            bands = []\n",
    "            for k in range(thumbnail.shape[0]):\n",
    "                # re scale all bands : fisrt divide by 100\n",
    "                x = (thumbnail[k, :, :].astype(np.float32) / 100)\n",
    "                # normalise between 0 and 1\n",
    "                bands.append((x - x.min()) / (x.max() - x.min())) \n",
    "                \n",
    "            normalized_thumbnail = np.dstack(bands)\n",
    "            new_normalized_thumbnail= np.moveaxis(normalized_thumbnail, -1, 0)\n",
    "\n",
    "            output_path = f\"{output_folder}/{prefix}_s1_tile_{i}_{j}.tif\"\n",
    "\n",
    "            with rasterio.open(\n",
    "                output_path, \n",
    "                'w', \n",
    "                driver=\"GTiff\", \n",
    "                height = 256, \n",
    "                width = 256, \n",
    "                count = 2, \n",
    "                dtype = np.float32\n",
    "            ) as dst: \n",
    "                dst.write(new_normalized_thumbnail)"
   ]
  },
  {
   "cell_type": "code",
   "execution_count": null,
   "id": "a56ab018",
   "metadata": {},
   "outputs": [],
   "source": [
    "image_path = \"/home/llalla/Documents/SWOT/dataset/S1S2Water/5/sentinel12_s1_5_img.tif\"\n",
    "output_folder = \"/home/llalla/Documents/SWOT/tuto_unet/data_folder/5_s1/\"\n",
    "\n",
    "split_selected_s1_images(image_path, '5', selected_indexes, output_folder)\n",
    "\n"
   ]
  },
  {
   "cell_type": "markdown",
   "id": "f386b365",
   "metadata": {},
   "source": [
    "# 4. All fonctions combined to split all data at once"
   ]
  },
  {
   "cell_type": "markdown",
   "id": "b3c3fc16",
   "metadata": {},
   "source": [
    "### split masks = keep only thumbnails with at least 10% of water and at least 10% of land "
   ]
  },
  {
   "cell_type": "code",
   "execution_count": 4,
   "id": "8dd8bd52",
   "metadata": {},
   "outputs": [],
   "source": [
    "def split_selected_masks(image_path, prefix, output_folder, size=256): \n",
    "    selected_indexes=[]\n",
    "    \n",
    "    with rasterio.open(image_path) as src: \n",
    "        w, h = src.width, src.height\n",
    "        \n",
    "        for i in range(0, w, size): \n",
    "            for j in range(0, h, size): \n",
    "                window = Window(i, j, min(size, w - i), min(size, h - j))\n",
    "                thumbnail = src.read(window = window)\n",
    "                \n",
    "                # keep only thumbnails with at least 10% of water and at least 10% of land \n",
    "                nb_water_pixels = sum(sum(sum(thumbnail)))\n",
    "                \n",
    "                if (nb_water_pixels > 65536 * (10/100)) and (nb_water_pixels < 65536 * (90/100)):  \n",
    "                    output_path = f\"{output_folder}/{prefix}_mask_tile_{i}_{j}.tif\"\n",
    "                    selected_indexes.append((i,j))\n",
    "                    with rasterio.open(\n",
    "                        output_path, \n",
    "                        'w', \n",
    "                        driver=\"GTiff\", \n",
    "                        height = 256, \n",
    "                        width = 256, \n",
    "                        count = src.count, \n",
    "                        dtype = src.dtypes[0]\n",
    "                    ) as dst: \n",
    "                        dst.write(thumbnail)\n",
    "                        \n",
    "    return selected_indexes"
   ]
  },
  {
   "cell_type": "markdown",
   "id": "5187a368",
   "metadata": {},
   "source": [
    "### split matching s2, keep 6bands"
   ]
  },
  {
   "cell_type": "code",
   "execution_count": 5,
   "id": "46ab6792",
   "metadata": {},
   "outputs": [],
   "source": [
    "def scale_min_max(array, min=0, max=10000):\n",
    "    bands = []\n",
    "    for i in range(array.shape[2]):\n",
    "        bands.append(array[:, :, i].astype(np.float32) / max)\n",
    "    return np.dstack(bands)\n",
    "\n",
    "def split_selected_s2_images(image_path, prefix, selected_indexes, output_folder, size=256): \n",
    "    # open \"big\" image\n",
    "    with rasterio.open(image_path) as src: \n",
    "        w, h = src.width, src.height\n",
    "        \n",
    "        # crop thumbnail\n",
    "        for (i,j) in selected_indexes: \n",
    "            window = Window(i, j, min(size, w - i), min(size, h - j))\n",
    "            thumbnail = src.read(window = window)\n",
    " \n",
    "            bands = []\n",
    "            for k in range(thumbnail.shape[0]):\n",
    "                # re scale all bands : fisrt divide by 10000\n",
    "                x = (thumbnail[k, :, :].astype(np.float32) / 10000)\n",
    "                # normalise between 0 and 1\n",
    "                bands.append((x - x.min()) / (x.max() - x.min())) \n",
    "                \n",
    "            normalized_thumbnail = np.dstack(bands)\n",
    "            new_normalized_thumbnail= np.moveaxis(normalized_thumbnail, -1, 0)\n",
    "\n",
    "            output_path = f\"{output_folder}/{prefix}_s2_tile_{i}_{j}.tif\"\n",
    "\n",
    "            with rasterio.open(\n",
    "                output_path, \n",
    "                'w', \n",
    "                driver=\"GTiff\", \n",
    "                height = 256, \n",
    "                width = 256, \n",
    "                count = 6, # 6 bands\n",
    "                dtype = np.float32\n",
    "            ) as dst: \n",
    "                dst.write(new_normalized_thumbnail)"
   ]
  },
  {
   "cell_type": "markdown",
   "id": "6ebfa9be",
   "metadata": {},
   "source": [
    "### split s1"
   ]
  },
  {
   "cell_type": "code",
   "execution_count": 6,
   "id": "f0b27c3e",
   "metadata": {},
   "outputs": [],
   "source": [
    "def split_selected_s1_images(image_path, prefix, selected_indexes, output_folder, size=256): \n",
    "    # open \"big\" image\n",
    "    with rasterio.open(image_path) as src: \n",
    "        w, h = src.width, src.height\n",
    "        \n",
    "        # crop thumbnail\n",
    "        for (i,j) in selected_indexes: \n",
    "            window = Window(i, j, min(size, w - i), min(size, h - j))\n",
    "            thumbnail = src.read(window = window)\n",
    " \n",
    "            bands = []\n",
    "            for k in range(thumbnail.shape[0]):\n",
    "                # re scale all bands : fisrt divide by 100\n",
    "                x = (thumbnail[k, :, :].astype(np.float32) / 100)\n",
    "                # normalise between 0 and 1\n",
    "                bands.append((x - x.min()) / (x.max() - x.min())) \n",
    "                \n",
    "            normalized_thumbnail = np.dstack(bands)\n",
    "            new_normalized_thumbnail= np.moveaxis(normalized_thumbnail, -1, 0)\n",
    "\n",
    "            output_path = f\"{output_folder}/{prefix}_s1_tile_{i}_{j}.tif\"\n",
    "\n",
    "            with rasterio.open(\n",
    "                output_path, \n",
    "                'w', \n",
    "                driver=\"GTiff\", \n",
    "                height = 256, \n",
    "                width = 256, \n",
    "                count = 2, \n",
    "                dtype = np.float32\n",
    "            ) as dst: \n",
    "                dst.write(new_normalized_thumbnail)"
   ]
  },
  {
   "cell_type": "code",
   "execution_count": 7,
   "id": "e0358de9",
   "metadata": {},
   "outputs": [],
   "source": [
    "def split_data(input_folder, output_folder, prefix): \n",
    "    \n",
    "    mask_path = input_folder + prefix + \"/sentinel12_s2_\"+ prefix + \"_msk.tif\"\n",
    "    output_folder_mask = output_folder + \"masks/\"\n",
    "    selected_indexes = split_selected_masks(mask_path, prefix, output_folder_mask)\n",
    "    \n",
    "    s2_path = input_folder + prefix + \"/sentinel12_s2_\"+ prefix + \"_img.tif\"\n",
    "    output_folder_s2 = output_folder + \"s2/\"\n",
    "    split_selected_s2_images(s2_path, prefix, selected_indexes, output_folder_s2)\n",
    "    \n",
    "    s1_path = input_folder + prefix + \"/sentinel12_s1_\"+ prefix + \"_img.tif\"\n",
    "    output_folder_s1 = output_folder + \"s1/\"\n",
    "    split_selected_s1_images(s1_path, prefix, selected_indexes, output_folder_s1)\n",
    "    \n",
    "    return len(selected_indexes)"
   ]
  },
  {
   "cell_type": "code",
   "execution_count": 8,
   "id": "543d85c6",
   "metadata": {},
   "outputs": [
    {
     "ename": "RasterioIOError",
     "evalue": "/home/r/pao_ciel_mon_point_deau/S1S2Water13/sentinel12_s2_13_msk.tif: No such file or directory",
     "output_type": "error",
     "traceback": [
      "\u001b[0;31m---------------------------------------------------------------------------\u001b[0m",
      "\u001b[0;31mCPLE_OpenFailedError\u001b[0m                      Traceback (most recent call last)",
      "File \u001b[0;32mrasterio/_base.pyx:310\u001b[0m, in \u001b[0;36mrasterio._base.DatasetBase.__init__\u001b[0;34m()\u001b[0m\n",
      "File \u001b[0;32mrasterio/_base.pyx:221\u001b[0m, in \u001b[0;36mrasterio._base.open_dataset\u001b[0;34m()\u001b[0m\n",
      "File \u001b[0;32mrasterio/_err.pyx:221\u001b[0m, in \u001b[0;36mrasterio._err.exc_wrap_pointer\u001b[0;34m()\u001b[0m\n",
      "\u001b[0;31mCPLE_OpenFailedError\u001b[0m: /home/r/pao_ciel_mon_point_deau/S1S2Water13/sentinel12_s2_13_msk.tif: No such file or directory",
      "\nDuring handling of the above exception, another exception occurred:\n",
      "\u001b[0;31mRasterioIOError\u001b[0m                           Traceback (most recent call last)",
      "Cell \u001b[0;32mIn[8], line 7\u001b[0m\n\u001b[1;32m      4\u001b[0m output_folder \u001b[38;5;241m=\u001b[39m \u001b[38;5;124m'\u001b[39m\u001b[38;5;124m/home/r/pao_ciel_mon_point_deau/data_folder\u001b[39m\u001b[38;5;124m'\u001b[39m\n\u001b[1;32m      5\u001b[0m input_folder \u001b[38;5;241m=\u001b[39m \u001b[38;5;124m'\u001b[39m\u001b[38;5;124m/home/r/pao_ciel_mon_point_deau/S1S2Water\u001b[39m\u001b[38;5;124m'\u001b[39m\n\u001b[0;32m----> 7\u001b[0m \u001b[43msplit_data\u001b[49m\u001b[43m(\u001b[49m\u001b[43minput_folder\u001b[49m\u001b[43m,\u001b[49m\u001b[43m \u001b[49m\u001b[43moutput_folder\u001b[49m\u001b[43m,\u001b[49m\u001b[43m \u001b[49m\u001b[43mprefix\u001b[49m\u001b[43m)\u001b[49m\n",
      "Cell \u001b[0;32mIn[7], line 5\u001b[0m, in \u001b[0;36msplit_data\u001b[0;34m(input_folder, output_folder, prefix)\u001b[0m\n\u001b[1;32m      3\u001b[0m mask_path \u001b[38;5;241m=\u001b[39m input_folder \u001b[38;5;241m+\u001b[39m prefix \u001b[38;5;241m+\u001b[39m \u001b[38;5;124m\"\u001b[39m\u001b[38;5;124m/sentinel12_s2_\u001b[39m\u001b[38;5;124m\"\u001b[39m\u001b[38;5;241m+\u001b[39m prefix \u001b[38;5;241m+\u001b[39m \u001b[38;5;124m\"\u001b[39m\u001b[38;5;124m_msk.tif\u001b[39m\u001b[38;5;124m\"\u001b[39m\n\u001b[1;32m      4\u001b[0m output_folder_mask \u001b[38;5;241m=\u001b[39m output_folder \u001b[38;5;241m+\u001b[39m \u001b[38;5;124m\"\u001b[39m\u001b[38;5;124mmasks/\u001b[39m\u001b[38;5;124m\"\u001b[39m\n\u001b[0;32m----> 5\u001b[0m selected_indexes \u001b[38;5;241m=\u001b[39m \u001b[43msplit_selected_masks\u001b[49m\u001b[43m(\u001b[49m\u001b[43mmask_path\u001b[49m\u001b[43m,\u001b[49m\u001b[43m \u001b[49m\u001b[43mprefix\u001b[49m\u001b[43m,\u001b[49m\u001b[43m \u001b[49m\u001b[43moutput_folder_mask\u001b[49m\u001b[43m)\u001b[49m\n\u001b[1;32m      7\u001b[0m s2_path \u001b[38;5;241m=\u001b[39m input_folder \u001b[38;5;241m+\u001b[39m prefix \u001b[38;5;241m+\u001b[39m \u001b[38;5;124m\"\u001b[39m\u001b[38;5;124m/sentinel12_s2_\u001b[39m\u001b[38;5;124m\"\u001b[39m\u001b[38;5;241m+\u001b[39m prefix \u001b[38;5;241m+\u001b[39m \u001b[38;5;124m\"\u001b[39m\u001b[38;5;124m_img.tif\u001b[39m\u001b[38;5;124m\"\u001b[39m\n\u001b[1;32m      8\u001b[0m output_folder_s2 \u001b[38;5;241m=\u001b[39m output_folder \u001b[38;5;241m+\u001b[39m \u001b[38;5;124m\"\u001b[39m\u001b[38;5;124ms2/\u001b[39m\u001b[38;5;124m\"\u001b[39m\n",
      "Cell \u001b[0;32mIn[4], line 4\u001b[0m, in \u001b[0;36msplit_selected_masks\u001b[0;34m(image_path, prefix, output_folder, size)\u001b[0m\n\u001b[1;32m      1\u001b[0m \u001b[38;5;28;01mdef\u001b[39;00m \u001b[38;5;21msplit_selected_masks\u001b[39m(image_path, prefix, output_folder, size\u001b[38;5;241m=\u001b[39m\u001b[38;5;241m256\u001b[39m): \n\u001b[1;32m      2\u001b[0m     selected_indexes\u001b[38;5;241m=\u001b[39m[]\n\u001b[0;32m----> 4\u001b[0m     \u001b[38;5;28;01mwith\u001b[39;00m \u001b[43mrasterio\u001b[49m\u001b[38;5;241;43m.\u001b[39;49m\u001b[43mopen\u001b[49m\u001b[43m(\u001b[49m\u001b[43mimage_path\u001b[49m\u001b[43m)\u001b[49m \u001b[38;5;28;01mas\u001b[39;00m src: \n\u001b[1;32m      5\u001b[0m         w, h \u001b[38;5;241m=\u001b[39m src\u001b[38;5;241m.\u001b[39mwidth, src\u001b[38;5;241m.\u001b[39mheight\n\u001b[1;32m      7\u001b[0m         \u001b[38;5;28;01mfor\u001b[39;00m i \u001b[38;5;129;01min\u001b[39;00m \u001b[38;5;28mrange\u001b[39m(\u001b[38;5;241m0\u001b[39m, w, size): \n",
      "File \u001b[0;32m~/.local/lib/python3.10/site-packages/rasterio/env.py:451\u001b[0m, in \u001b[0;36mensure_env_with_credentials.<locals>.wrapper\u001b[0;34m(*args, **kwds)\u001b[0m\n\u001b[1;32m    448\u001b[0m     session \u001b[38;5;241m=\u001b[39m DummySession()\n\u001b[1;32m    450\u001b[0m \u001b[38;5;28;01mwith\u001b[39;00m env_ctor(session\u001b[38;5;241m=\u001b[39msession):\n\u001b[0;32m--> 451\u001b[0m     \u001b[38;5;28;01mreturn\u001b[39;00m \u001b[43mf\u001b[49m\u001b[43m(\u001b[49m\u001b[38;5;241;43m*\u001b[39;49m\u001b[43margs\u001b[49m\u001b[43m,\u001b[49m\u001b[43m \u001b[49m\u001b[38;5;241;43m*\u001b[39;49m\u001b[38;5;241;43m*\u001b[39;49m\u001b[43mkwds\u001b[49m\u001b[43m)\u001b[49m\n",
      "File \u001b[0;32m~/.local/lib/python3.10/site-packages/rasterio/__init__.py:304\u001b[0m, in \u001b[0;36mopen\u001b[0;34m(fp, mode, driver, width, height, count, crs, transform, dtype, nodata, sharing, **kwargs)\u001b[0m\n\u001b[1;32m    301\u001b[0m path \u001b[38;5;241m=\u001b[39m _parse_path(raw_dataset_path)\n\u001b[1;32m    303\u001b[0m \u001b[38;5;28;01mif\u001b[39;00m mode \u001b[38;5;241m==\u001b[39m \u001b[38;5;124m\"\u001b[39m\u001b[38;5;124mr\u001b[39m\u001b[38;5;124m\"\u001b[39m:\n\u001b[0;32m--> 304\u001b[0m     dataset \u001b[38;5;241m=\u001b[39m \u001b[43mDatasetReader\u001b[49m\u001b[43m(\u001b[49m\u001b[43mpath\u001b[49m\u001b[43m,\u001b[49m\u001b[43m \u001b[49m\u001b[43mdriver\u001b[49m\u001b[38;5;241;43m=\u001b[39;49m\u001b[43mdriver\u001b[49m\u001b[43m,\u001b[49m\u001b[43m \u001b[49m\u001b[43msharing\u001b[49m\u001b[38;5;241;43m=\u001b[39;49m\u001b[43msharing\u001b[49m\u001b[43m,\u001b[49m\u001b[43m \u001b[49m\u001b[38;5;241;43m*\u001b[39;49m\u001b[38;5;241;43m*\u001b[39;49m\u001b[43mkwargs\u001b[49m\u001b[43m)\u001b[49m\n\u001b[1;32m    305\u001b[0m \u001b[38;5;28;01melif\u001b[39;00m mode \u001b[38;5;241m==\u001b[39m \u001b[38;5;124m\"\u001b[39m\u001b[38;5;124mr+\u001b[39m\u001b[38;5;124m\"\u001b[39m:\n\u001b[1;32m    306\u001b[0m     dataset \u001b[38;5;241m=\u001b[39m get_writer_for_path(path, driver\u001b[38;5;241m=\u001b[39mdriver)(\n\u001b[1;32m    307\u001b[0m         path, mode, driver\u001b[38;5;241m=\u001b[39mdriver, sharing\u001b[38;5;241m=\u001b[39msharing, \u001b[38;5;241m*\u001b[39m\u001b[38;5;241m*\u001b[39mkwargs\n\u001b[1;32m    308\u001b[0m     )\n",
      "File \u001b[0;32mrasterio/_base.pyx:312\u001b[0m, in \u001b[0;36mrasterio._base.DatasetBase.__init__\u001b[0;34m()\u001b[0m\n",
      "\u001b[0;31mRasterioIOError\u001b[0m: /home/r/pao_ciel_mon_point_deau/S1S2Water13/sentinel12_s2_13_msk.tif: No such file or directory"
     ]
    }
   ],
   "source": [
    "prefix = '13'\n",
    "# output_folder = \"/home/llalla/Documents/SWOT/tuto_unet/data_folder/\"\n",
    "# input_folder = \"/home/llalla/Documents/SWOT/dataset/S1S2Water/\"\n",
    "output_folder = '/home/r/pao_ciel_mon_point_deau/data_folder'\n",
    "input_folder = '/home/r/pao_ciel_mon_point_deau/S1S2Water'\n",
    "\n",
    "split_data(input_folder, output_folder, prefix)"
   ]
  }
 ],
 "metadata": {
  "kernelspec": {
   "display_name": "Python 3 (ipykernel)",
   "language": "python",
   "name": "python3"
  },
  "language_info": {
   "codemirror_mode": {
    "name": "ipython",
    "version": 3
   },
   "file_extension": ".py",
   "mimetype": "text/x-python",
   "name": "python",
   "nbconvert_exporter": "python",
   "pygments_lexer": "ipython3",
   "version": "3.10.12"
  }
 },
 "nbformat": 4,
 "nbformat_minor": 5
}
